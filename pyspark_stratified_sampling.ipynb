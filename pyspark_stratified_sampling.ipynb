{
  "nbformat": 4,
  "nbformat_minor": 0,
  "metadata": {
    "colab": {
      "name": "pyspark_stratified_sampling.ipynb",
      "provenance": [],
      "collapsed_sections": []
    },
    "kernelspec": {
      "name": "python3",
      "display_name": "Python 3"
    },
    "language_info": {
      "name": "python"
    }
  },
  "cells": [
    {
      "cell_type": "markdown",
      "source": [
        "# Stratified Sampling in #pyspark  \n",
        "\n",
        "\n",
        "\n",
        "☑️ 𝐬𝐚𝐦𝐩𝐥𝐞𝐁𝐲():-\n",
        "\n",
        "===========\n",
        "\n",
        "In this method before sampling, the elements in the dataset are divided into homogeneous subgroups called strata, and the representative of each subgroup is chosen during sampling based on a defined percentage.\n",
        "\n",
        "\n",
        "\n",
        "🔵 Syntax:- 𝐬𝐚𝐦𝐩𝐥𝐞𝐁𝐲(𝐜𝐨𝐥, 𝐟𝐫𝐚𝐜𝐭𝐢𝐨𝐧𝐬, 𝐬𝐞𝐞𝐝=𝐍𝐨𝐧𝐞)\n",
        "\n",
        "\n",
        "\n",
        "☑️ 𝐀𝐫𝐠𝐮𝐦𝐞𝐧𝐭𝐬:-\n",
        "\n",
        "===========\n",
        "\n",
        "🔵 𝐜𝐨𝐥:-\n",
        "\n",
        "======\n",
        "\n",
        "👉 The column on which the subgrouping will happen.\n",
        "\n",
        "\n",
        "\n",
        "🔵 fractions:-\n",
        "\n",
        "=========\n",
        "\n",
        "👉 The percentage contribution by each of the column values during the sampling.\n",
        "\n",
        "\n",
        "\n",
        "👉 For example, Suppose we have a fuels column, and we perform sampling using it. We have three distinct values (\"Petrol\", \"Diesel\", \"LPG\") in this column, so the values of the fractions look like this:-\n",
        "\n",
        "fractions={\"Petrol\": 0.1, \"Diesel\": 0.2, \"LPG\":0,1}.\n",
        "\n",
        "\n",
        "\n",
        "👉 If a fraction for a particular value is not defined, it's become 0.\n",
        "\n",
        "\n",
        "\n",
        "🔵 𝐬𝐞𝐞𝐝:-\n",
        "\n",
        "=======\n",
        "\n",
        "👉 To generate the same sets of sample records each time you perform sampling, you have to define the seed value.\n",
        "\n",
        "\n",
        "\n",
        "👉 When you defined the 𝐬𝐞𝐞𝐝 𝐯𝐚𝐥𝐮𝐞 𝐲𝐨𝐮 𝐰𝐢𝐥𝐥 𝐠𝐞𝐭 𝐭𝐡𝐞 𝐬𝐚𝐦𝐞 𝐬𝐞𝐭𝐬 𝐨𝐟 𝐫𝐞𝐜𝐨𝐫𝐝𝐬 𝐞𝐚𝐜𝐡 𝐭𝐢𝐦𝐞 you perform sampling.\n",
        "\n",
        "\n",
        "Follow for more:- https://www.linkedin.com/in/kishanyadav/\n",
        "\n",
        "Keep Learning!!"
      ],
      "metadata": {
        "id": "55i2WzI53ceu"
      }
    },
    {
      "cell_type": "code",
      "source": [
        "# install pyspark in google colab\n",
        "!pip install pyspark"
      ],
      "metadata": {
        "colab": {
          "base_uri": "https://localhost:8080/"
        },
        "id": "eq0lZ5biTCFe",
        "outputId": "b976e880-a469-42cf-ed94-009088b47a08"
      },
      "execution_count": 6,
      "outputs": [
        {
          "output_type": "stream",
          "name": "stdout",
          "text": [
            "Looking in indexes: https://pypi.org/simple, https://us-python.pkg.dev/colab-wheels/public/simple/\n",
            "Requirement already satisfied: pyspark in /usr/local/lib/python3.7/dist-packages (3.3.0)\n",
            "Requirement already satisfied: py4j==0.10.9.5 in /usr/local/lib/python3.7/dist-packages (from pyspark) (0.10.9.5)\n"
          ]
        }
      ]
    },
    {
      "cell_type": "code",
      "source": [
        "# importing neccessary libs\n",
        "from pyspark.sql import SparkSession\n",
        "\n",
        "# creating session\n",
        "spark = SparkSession.builder.appName(\"practice\").getOrCreate()\n",
        "\n",
        "# # create dataframe\n",
        "df_car = spark.read.format(\"csv\").option(\"header\", True).option(\"inferschema\", True).load(\"/content/car_datset.csv\")\n",
        "df_car.show(5)"
      ],
      "metadata": {
        "colab": {
          "base_uri": "https://localhost:8080/"
        },
        "id": "6pSMJtnR2aJF",
        "outputId": "93b9a5a4-3ef0-4442-b3b6-9c9b016c846a"
      },
      "execution_count": 8,
      "outputs": [
        {
          "output_type": "stream",
          "name": "stdout",
          "text": [
            "+--------------------+----+-------------+---------+------+-----------+------------+------------+\n",
            "|                name|year|selling_price|km_driven|  fuel|seller_type|transmission|       owner|\n",
            "+--------------------+----+-------------+---------+------+-----------+------------+------------+\n",
            "|       Maruti 800 AC|2007|        60000|    70000|Petrol| Individual|      Manual| First Owner|\n",
            "|Maruti Wagon R LX...|2007|       135000|    50000|Petrol| Individual|      Manual| First Owner|\n",
            "|Hyundai Verna 1.6 SX|2012|       600000|   100000|Diesel| Individual|      Manual| First Owner|\n",
            "|Datsun RediGO T O...|2017|       250000|    46000|Petrol| Individual|      Manual| First Owner|\n",
            "|Honda Amaze VX i-...|2014|       450000|   141000|Diesel| Individual|      Manual|Second Owner|\n",
            "+--------------------+----+-------------+---------+------+-----------+------------+------------+\n",
            "only showing top 5 rows\n",
            "\n"
          ]
        }
      ]
    },
    {
      "cell_type": "code",
      "source": [
        "# check the number of records\n",
        "df_car.count()"
      ],
      "metadata": {
        "colab": {
          "base_uri": "https://localhost:8080/"
        },
        "id": "qHzDl-F2UYeM",
        "outputId": "a2b56724-a651-4e38-91e3-c5a131fb0e8f"
      },
      "execution_count": 13,
      "outputs": [
        {
          "output_type": "execute_result",
          "data": {
            "text/plain": [
              "100"
            ]
          },
          "metadata": {},
          "execution_count": 13
        }
      ]
    },
    {
      "cell_type": "markdown",
      "source": [
        "Our dataFrame has `100` records."
      ],
      "metadata": {
        "id": "ZxGJUVL0G9XL"
      }
    },
    {
      "cell_type": "code",
      "source": [
        "# check the nuber of unique val in fuel column\n",
        "df_car.groupBy(\"fuel\").count().orderBy(\"fuel\").show()"
      ],
      "metadata": {
        "colab": {
          "base_uri": "https://localhost:8080/"
        },
        "id": "sIohnHSs6zNO",
        "outputId": "842483cc-0a38-4ee6-a0b7-dcb90888982e"
      },
      "execution_count": 10,
      "outputs": [
        {
          "output_type": "stream",
          "name": "stdout",
          "text": [
            "+------+-----+\n",
            "|  fuel|count|\n",
            "+------+-----+\n",
            "|   CNG|    2|\n",
            "|Diesel|   47|\n",
            "|Petrol|   51|\n",
            "+------+-----+\n",
            "\n"
          ]
        }
      ]
    },
    {
      "cell_type": "markdown",
      "source": [
        "Fuel column has 3 values:-\n",
        "\n",
        "CNG:- 2\n",
        "\n",
        "Diesel:- 47\n",
        "\n",
        "Petrol:- 51"
      ],
      "metadata": {
        "id": "jnEEM8OWUp5I"
      }
    },
    {
      "cell_type": "code",
      "source": [
        "# now perform sampling on fuel column\n",
        "df_sample_data = df_car.sampleBy(\"fuel\", fractions={\"Petrol\":0.3, \"Diesel\":0.2}, seed=40)\n",
        "df_sample_data.show(10)"
      ],
      "metadata": {
        "colab": {
          "base_uri": "https://localhost:8080/"
        },
        "id": "ySby2nrLT1hA",
        "outputId": "430fa6cb-c2c5-4404-e4b4-c3a1d6127dc2"
      },
      "execution_count": 22,
      "outputs": [
        {
          "output_type": "stream",
          "name": "stdout",
          "text": [
            "+--------------------+----+-------------+---------+------+-----------+------------+------------+\n",
            "|                name|year|selling_price|km_driven|  fuel|seller_type|transmission|       owner|\n",
            "+--------------------+----+-------------+---------+------+-----------+------------+------------+\n",
            "|Maruti Wagon R LX...|2007|       135000|    50000|Petrol| Individual|      Manual| First Owner|\n",
            "|Honda Amaze VX i-...|2014|       450000|   141000|Diesel| Individual|      Manual|Second Owner|\n",
            "|Hyundai Xcent 1.2...|2016|       550000|    25000|Petrol| Individual|      Manual| First Owner|\n",
            "|Tata Indigo Grand...|2014|       240000|    60000|Petrol| Individual|      Manual|Second Owner|\n",
            "|Hyundai Creta 1.6...|2015|       850000|    25000|Petrol| Individual|      Manual| First Owner|\n",
            "|Maruti Wagon R LX...|2007|       135000|    50000|Petrol| Individual|      Manual| First Owner|\n",
            "|Honda Amaze VX i-...|2014|       450000|   141000|Diesel| Individual|      Manual|Second Owner|\n",
            "|Toyota Corolla Al...|2018|      1650000|    25000|Petrol|     Dealer|   Automatic| First Owner|\n",
            "|Maruti Ciaz VXi Plus|2015|       585000|    24000|Petrol|     Dealer|      Manual| First Owner|\n",
            "|Mercedes-Benz New...|2013|      1425000|    59000|Diesel|     Dealer|   Automatic| First Owner|\n",
            "+--------------------+----+-------------+---------+------+-----------+------------+------------+\n",
            "only showing top 10 rows\n",
            "\n"
          ]
        }
      ]
    },
    {
      "cell_type": "code",
      "source": [
        "# number of records for each fuel types\n",
        "df_sample_data.groupBy(\"fuel\").count().orderBy(\"fuel\").show()"
      ],
      "metadata": {
        "colab": {
          "base_uri": "https://localhost:8080/"
        },
        "id": "Bp-mxI_1UTdK",
        "outputId": "ca4e7834-f1e2-42a6-fa1c-ed0d27f5da50"
      },
      "execution_count": 21,
      "outputs": [
        {
          "output_type": "stream",
          "name": "stdout",
          "text": [
            "+------+-----+\n",
            "|  fuel|count|\n",
            "+------+-----+\n",
            "|Diesel|   12|\n",
            "|Petrol|   16|\n",
            "+------+-----+\n",
            "\n"
          ]
        }
      ]
    },
    {
      "cell_type": "markdown",
      "source": [
        "CNG is not defined in fractions so it display no record for it. "
      ],
      "metadata": {
        "id": "O-WGHt-0WmgP"
      }
    },
    {
      "cell_type": "code",
      "source": [
        "# total number of records we get\n",
        "df_sample_data.count()"
      ],
      "metadata": {
        "colab": {
          "base_uri": "https://localhost:8080/"
        },
        "id": "Xo5qKQsLV3cb",
        "outputId": "9641bf0c-fa33-4835-dc22-1b294f062da6"
      },
      "execution_count": 23,
      "outputs": [
        {
          "output_type": "execute_result",
          "data": {
            "text/plain": [
              "28"
            ]
          },
          "metadata": {},
          "execution_count": 23
        }
      ]
    },
    {
      "cell_type": "markdown",
      "source": [
        "Total records obtained in the sample is `28`"
      ],
      "metadata": {
        "id": "EW8SWyOcWybL"
      }
    }
  ]
}