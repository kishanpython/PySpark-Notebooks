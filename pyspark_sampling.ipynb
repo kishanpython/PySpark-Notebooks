{
  "nbformat": 4,
  "nbformat_minor": 0,
  "metadata": {
    "colab": {
      "name": "pyspark_sampling.ipynb",
      "provenance": [],
      "collapsed_sections": []
    },
    "kernelspec": {
      "name": "python3",
      "display_name": "Python 3"
    },
    "language_info": {
      "name": "python"
    }
  },
  "cells": [
    {
      "cell_type": "markdown",
      "source": [
        "\n",
        "\n",
        "# Sampling in #pyspark ✍️\n",
        "\n",
        "### 𝐒𝐢𝐦𝐩𝐥𝐞 𝐑𝐚𝐧𝐝𝐨𝐦 𝐒𝐚𝐦𝐩𝐥𝐢𝐧𝐠 𝐨𝐫 𝐬𝐚𝐦𝐩𝐥𝐞():-\n",
        "\n",
        "=========================\n",
        "\n",
        "☑️ In Simple random sampling, we pick records randomly and every records has an equal chance to get picked.\n",
        "\n",
        "\n",
        "\n",
        "🔵 Syntax:- sample(withReplacement, fraction, seed=None)\n",
        "\n",
        "\n",
        "\n",
        "☑️ Arguments:-\n",
        "\n",
        "==============\n",
        "\n",
        "\n",
        "\n",
        "🔵 𝐟𝐫𝐚𝐜𝐭𝐢𝐨𝐧:- \n",
        "\n",
        "=============\n",
        "\n",
        "👉It takes values in a 𝐫𝐚𝐧𝐠𝐞 𝐨𝐟 [𝟎.𝟎,𝟏.𝟎] and it's 𝐦𝐚𝐧𝐝𝐚𝐭𝐨𝐫𝐲 𝐭𝐨 𝐩𝐫𝐨𝐯𝐢𝐝𝐞.\n",
        "\n",
        "\n",
        "\n",
        " 👉It defines fractions of 𝐫𝐞𝐜𝐨𝐫𝐝𝐬 𝐲𝐨𝐮 𝐰𝐚𝐧𝐭 𝐭𝐨 𝐬𝐚𝐦𝐩𝐥𝐞 𝐟𝐫𝐨𝐦 𝐲𝐨𝐮𝐫 𝐝𝐚𝐭𝐚𝐅𝐫𝐚𝐦𝐞.\n",
        "\n",
        "\n",
        "\n",
        "👉For example, if you define it as 0.2 then it means you want to   sample approximately 20% of records from your dataFrame.\n",
        "\n",
        "\n",
        "\n",
        "👉The sample function doesn’t return the exact fractions of records specified. For example, if you have 100 records in your dataFrame, and you define 0.2 as your fraction, it's doesn't provide a guarantee to give you exact 20 records.\n",
        "\n",
        "\n",
        "\n",
        "🔵𝐒𝐞𝐞𝐝:-\n",
        "\n",
        "=========\n",
        "\n",
        "👉 The sample() provides different sets of records each time.\n",
        "\n",
        "\n",
        "\n",
        "👉 To generate the same sets of sample records each time you do sampling, you have to define the seed value. \n",
        "\n",
        "\n",
        "\n",
        "👉 When you defined the 𝐬𝐞𝐞𝐝 𝐯𝐚𝐥𝐮𝐞 𝐲𝐨𝐮 𝐰𝐢𝐥𝐥 𝐠𝐞𝐭 𝐭𝐡𝐞 𝐬𝐚𝐦𝐞 𝐬𝐞𝐭𝐬 𝐨𝐟 𝐫𝐞𝐜𝐨𝐫𝐝𝐬 𝐞𝐚𝐜𝐡 𝐭𝐢𝐦𝐞 you run the sample function. \n",
        "\n",
        "\n",
        "\n",
        "🔵 𝐰𝐢𝐭𝐡𝐑𝐞𝐩𝐥𝐚𝐜𝐞𝐦𝐞𝐧𝐭:-\n",
        "\n",
        "=====================\n",
        "\n",
        "👉 If you set it to 𝐓𝐫𝐮𝐞, 𝐲𝐨𝐮 𝐰𝐢𝐥𝐥 𝐠𝐞𝐭 𝐫𝐞𝐩𝐞𝐚𝐭𝐞𝐝 𝐨𝐫 𝐝𝐮𝐩𝐥𝐢𝐜𝐚𝐭𝐞 𝐫𝐞𝐜𝐨𝐫𝐝𝐬 𝐢𝐧 𝐲𝐨𝐮𝐫 𝐬𝐚𝐦𝐩𝐥𝐞 𝐝𝐚𝐭𝐚 along with other records.\n",
        "\n",
        "\n",
        "\n",
        "👉 If 𝐅𝐚𝐥𝐬𝐞 or nothing specifies, and it's also the default value, 𝐲𝐨𝐮 𝐰𝐢𝐥𝐥 𝐠𝐞𝐭 𝐮𝐧𝐢𝐪𝐮𝐞 𝐫𝐞𝐜𝐨𝐫𝐝𝐬 𝐢𝐧 𝐲𝐨𝐮𝐫 𝐬𝐚𝐦𝐩𝐥𝐞 𝐝𝐚𝐭𝐚.\n",
        "\n",
        "\n",
        "\n",
        "===============================================\n",
        "\n",
        "Dataset link:- \n",
        "\n",
        "\n",
        "\n",
        "=================================================\n",
        "\n",
        "Follow for more:- \n",
        "https://www.linkedin.com/in/kishanyadav/\n",
        "\n",
        "\n",
        "############......  Keep Learning!!! .......##########"
      ],
      "metadata": {
        "id": "55i2WzI53ceu"
      }
    },
    {
      "cell_type": "code",
      "source": [
        "# install pyspark in google colab\n",
        "!pip install pyspark"
      ],
      "metadata": {
        "id": "eq0lZ5biTCFe"
      },
      "execution_count": null,
      "outputs": []
    },
    {
      "cell_type": "code",
      "source": [
        "# importing neccessary libs\n",
        "from pyspark.sql import SparkSession\n",
        "\n",
        "# creating session\n",
        "spark = SparkSession.builder.appName(\"practice\").getOrCreate()\n",
        "\n",
        "# # create dataframe\n",
        "df_survey = spark.read.format(\"csv\").option(\"header\", True).option(\"inferschema\", True).load(\"/content/dataset_for_sampling.csv\")\n",
        "df_survey.show(5)"
      ],
      "metadata": {
        "colab": {
          "base_uri": "https://localhost:8080/"
        },
        "id": "6pSMJtnR2aJF",
        "outputId": "f5dedee8-7c85-44b7-ddf4-1e53dbcf724c"
      },
      "execution_count": 49,
      "outputs": [
        {
          "output_type": "stream",
          "name": "stdout",
          "text": [
            "+----------------+-------+----------+------+------+\n",
            "|Series_reference| Period|Data_value|STATUS| UNITS|\n",
            "+----------------+-------+----------+------+------+\n",
            "|     BDCQ.SEA1AA|2011.06|     80078|     R|Number|\n",
            "|     BDCQ.SEA1AA|2011.09|     78324|     R|Number|\n",
            "|     BDCQ.SEA1AA|2011.12|     85850|     R|Number|\n",
            "|     BDCQ.SEA1AA|2012.03|     90743|     R|Number|\n",
            "|     BDCQ.SEA1AA|2012.06|     81780|     R|Number|\n",
            "+----------------+-------+----------+------+------+\n",
            "only showing top 5 rows\n",
            "\n"
          ]
        }
      ]
    },
    {
      "cell_type": "code",
      "source": [
        "# check the number of records\n",
        "df_survey.count()"
      ],
      "metadata": {
        "colab": {
          "base_uri": "https://localhost:8080/"
        },
        "id": "sIohnHSs6zNO",
        "outputId": "d8b57520-4561-4aa9-9376-2d63ac5e2bf3"
      },
      "execution_count": 50,
      "outputs": [
        {
          "output_type": "execute_result",
          "data": {
            "text/plain": [
              "100"
            ]
          },
          "metadata": {},
          "execution_count": 50
        }
      ]
    },
    {
      "cell_type": "markdown",
      "source": [
        "Our dataFrame has `100` records."
      ],
      "metadata": {
        "id": "ZxGJUVL0G9XL"
      }
    },
    {
      "cell_type": "markdown",
      "source": [
        "# Example - 01 || passing fraction value ||\n",
        "\n"
      ],
      "metadata": {
        "id": "SI1Cu2L-8A23"
      }
    },
    {
      "cell_type": "code",
      "source": [
        "# providing fraction value only\n",
        "df_sample_1 = df_survey.sample(fraction=0.2)\n",
        "df_sample_1.show()"
      ],
      "metadata": {
        "colab": {
          "base_uri": "https://localhost:8080/"
        },
        "id": "dqQdcdKt7kze",
        "outputId": "57e78587-f77b-472e-d6a2-0929ffb95c56"
      },
      "execution_count": 57,
      "outputs": [
        {
          "output_type": "stream",
          "name": "stdout",
          "text": [
            "+----------------+-------+----------+------+------+\n",
            "|Series_reference| Period|Data_value|STATUS| UNITS|\n",
            "+----------------+-------+----------+------+------+\n",
            "|     BDCQ.SEA1AA|2011.06|     80078|     R|Number|\n",
            "|     BDCQ.SEA1AA|2012.09|     79261|     R|Number|\n",
            "|     BDCQ.SEA1AA|2015.06|     87987|     R|Number|\n",
            "|     BDCQ.SEA1AA|2016.06|     88716|     R|Number|\n",
            "|     BDCQ.SEA1AA|2017.06|     90510|     R|Number|\n",
            "|     BDCQ.SEA1AA|2019.03|    102031|     R|Number|\n",
            "|     BDCQ.SEA1AA|2021.03|    101342|     R|Number|\n",
            "|     BDCQ.SEA1AS|2012.12|     84320|     R|Number|\n",
            "|     BDCQ.SEA1AS|2013.06|     85614|     R|Number|\n",
            "|     BDCQ.SEA1AS|2017.06|     94411|     R|Number|\n",
            "|     BDCQ.SEA1AS|2017.12|     94206|     R|Number|\n",
            "|     BDCQ.SEA1AS|2019.09|     94880|     R|Number|\n",
            "|     BDCQ.SEA1AS|2021.03|     96418|     R|Number|\n",
            "+----------------+-------+----------+------+------+\n",
            "\n"
          ]
        }
      ]
    },
    {
      "cell_type": "code",
      "source": [
        "# check the number of records\n",
        "df_sample_1.count()"
      ],
      "metadata": {
        "colab": {
          "base_uri": "https://localhost:8080/"
        },
        "id": "VvpcXKgL7u7V",
        "outputId": "9988554a-e483-49ff-da3b-629f2f9ae925"
      },
      "execution_count": 58,
      "outputs": [
        {
          "output_type": "execute_result",
          "data": {
            "text/plain": [
              "13"
            ]
          },
          "metadata": {},
          "execution_count": 58
        }
      ]
    },
    {
      "cell_type": "markdown",
      "source": [
        "Here you can see we have `100` records in our dataFrame and we defined `fraction=0.2` to get 20% of records i.e. = `20` , records but we gets less number of records i.e. `13`. It's give approx records."
      ],
      "metadata": {
        "id": "0JrGfl3E8uW9"
      }
    },
    {
      "cell_type": "markdown",
      "source": [
        "# Example - 02 || passing seed  value ||"
      ],
      "metadata": {
        "id": "SzoZAeVO-FHQ"
      }
    },
    {
      "cell_type": "code",
      "source": [
        "# providing fraction value and seed value together\n",
        "# for this example we are using above sample dataframe\n",
        "# so that we can compare the results easily\n",
        "df_sample_2 = df_sample_1.sample(fraction=0.2, seed=34)\n",
        "df_sample_3 = df_sample_1.sample(fraction=0.2, seed=34)\n",
        "df_sample_4 = df_sample_1.sample(fraction=0.2, seed=40)"
      ],
      "metadata": {
        "id": "2O47265h-EME"
      },
      "execution_count": 59,
      "outputs": []
    },
    {
      "cell_type": "code",
      "source": [
        "df_sample_2.show()"
      ],
      "metadata": {
        "colab": {
          "base_uri": "https://localhost:8080/"
        },
        "id": "qeQdD6bg8toM",
        "outputId": "96539788-7377-4373-9eb6-20f2ae25d245"
      },
      "execution_count": 60,
      "outputs": [
        {
          "output_type": "stream",
          "name": "stdout",
          "text": [
            "+----------------+-------+----------+------+------+\n",
            "|Series_reference| Period|Data_value|STATUS| UNITS|\n",
            "+----------------+-------+----------+------+------+\n",
            "|     BDCQ.SEA1AA|2015.06|     87987|     R|Number|\n",
            "|     BDCQ.SEA1AA|2016.06|     88716|     R|Number|\n",
            "|     BDCQ.SEA1AA|2021.03|    101342|     R|Number|\n",
            "+----------------+-------+----------+------+------+\n",
            "\n"
          ]
        }
      ]
    },
    {
      "cell_type": "code",
      "source": [
        "df_sample_3.show()"
      ],
      "metadata": {
        "colab": {
          "base_uri": "https://localhost:8080/"
        },
        "id": "nHVMlE-E8rCz",
        "outputId": "b81ff620-0f68-46b3-8695-834d0db733ce"
      },
      "execution_count": 61,
      "outputs": [
        {
          "output_type": "stream",
          "name": "stdout",
          "text": [
            "+----------------+-------+----------+------+------+\n",
            "|Series_reference| Period|Data_value|STATUS| UNITS|\n",
            "+----------------+-------+----------+------+------+\n",
            "|     BDCQ.SEA1AA|2015.06|     87987|     R|Number|\n",
            "|     BDCQ.SEA1AA|2016.06|     88716|     R|Number|\n",
            "|     BDCQ.SEA1AA|2021.03|    101342|     R|Number|\n",
            "+----------------+-------+----------+------+------+\n",
            "\n"
          ]
        }
      ]
    },
    {
      "cell_type": "markdown",
      "source": [
        "We can see that the records for both sample `(df_sample_2 and df_sample_3)` are same. We have given the seed value of `34` for both sample. Now let see the records of df_sample_4."
      ],
      "metadata": {
        "id": "DEK5XvX6A7yx"
      }
    },
    {
      "cell_type": "code",
      "source": [
        "# this sample contain 4 records and we have given different seed values for this sample. i.e. 40\n",
        "df_sample_4.show()"
      ],
      "metadata": {
        "colab": {
          "base_uri": "https://localhost:8080/"
        },
        "id": "S0CIDXUnA61_",
        "outputId": "29add5a2-aa24-40e3-9d13-98bc12a0b6f6"
      },
      "execution_count": 62,
      "outputs": [
        {
          "output_type": "stream",
          "name": "stdout",
          "text": [
            "+----------------+-------+----------+------+------+\n",
            "|Series_reference| Period|Data_value|STATUS| UNITS|\n",
            "+----------------+-------+----------+------+------+\n",
            "|     BDCQ.SEA1AA|2012.09|     79261|     R|Number|\n",
            "|     BDCQ.SEA1AA|2017.06|     90510|     R|Number|\n",
            "|     BDCQ.SEA1AS|2012.12|     84320|     R|Number|\n",
            "+----------------+-------+----------+------+------+\n",
            "\n"
          ]
        }
      ]
    },
    {
      "cell_type": "markdown",
      "source": [
        "# Example-03 || passing withReplacement argument value ||"
      ],
      "metadata": {
        "id": "MTxEfHx9B2bk"
      }
    },
    {
      "cell_type": "code",
      "source": [
        "# now we pass all three arguments values in sample\n",
        "# we are using df_sample_1 dataFrame\n",
        "df_sample_5 = df_sample_1.sample(withReplacement=True, fraction=0.4, seed=35)"
      ],
      "metadata": {
        "id": "Kw5EX9ToAncH"
      },
      "execution_count": 65,
      "outputs": []
    },
    {
      "cell_type": "code",
      "source": [
        "df_sample_5.show()"
      ],
      "metadata": {
        "colab": {
          "base_uri": "https://localhost:8080/"
        },
        "id": "5P6uFQ1LC7bI",
        "outputId": "aa4bed55-3ae8-4e9e-bb27-7d7606eed6d3"
      },
      "execution_count": 66,
      "outputs": [
        {
          "output_type": "stream",
          "name": "stdout",
          "text": [
            "+----------------+-------+----------+------+------+\n",
            "|Series_reference| Period|Data_value|STATUS| UNITS|\n",
            "+----------------+-------+----------+------+------+\n",
            "|     BDCQ.SEA1AA|2015.06|     87987|     R|Number|\n",
            "|     BDCQ.SEA1AA|2016.06|     88716|     R|Number|\n",
            "|     BDCQ.SEA1AA|2019.03|    102031|     R|Number|\n",
            "|     BDCQ.SEA1AS|2012.12|     84320|     R|Number|\n",
            "|     BDCQ.SEA1AS|2017.06|     94411|     R|Number|\n",
            "|     BDCQ.SEA1AS|2017.06|     94411|     R|Number|\n",
            "|     BDCQ.SEA1AS|2019.09|     94880|     R|Number|\n",
            "|     BDCQ.SEA1AS|2019.09|     94880|     R|Number|\n",
            "+----------------+-------+----------+------+------+\n",
            "\n"
          ]
        }
      ]
    },
    {
      "cell_type": "markdown",
      "source": [
        "When we set `withReplacement=True` we will get duplicated records in the output."
      ],
      "metadata": {
        "id": "tHIbUjD6DWBO"
      }
    },
    {
      "cell_type": "code",
      "source": [
        "# now we pass all three arguments values in sample\n",
        "# we are using df_sample_1 dataFrame\n",
        "df_sample_6 = df_sample_1.sample(withReplacement=False, fraction=0.3, seed=35)"
      ],
      "metadata": {
        "id": "U-xDtmO-DUcI"
      },
      "execution_count": 67,
      "outputs": []
    },
    {
      "cell_type": "code",
      "source": [
        "df_sample_6.show()"
      ],
      "metadata": {
        "colab": {
          "base_uri": "https://localhost:8080/"
        },
        "id": "LFf_IAkMC9dx",
        "outputId": "95521472-c9d6-4f6b-e90f-f6853ed75196"
      },
      "execution_count": 68,
      "outputs": [
        {
          "output_type": "stream",
          "name": "stdout",
          "text": [
            "+----------------+-------+----------+------+------+\n",
            "|Series_reference| Period|Data_value|STATUS| UNITS|\n",
            "+----------------+-------+----------+------+------+\n",
            "|     BDCQ.SEA1AA|2011.06|     80078|     R|Number|\n",
            "|     BDCQ.SEA1AA|2012.09|     79261|     R|Number|\n",
            "|     BDCQ.SEA1AA|2015.06|     87987|     R|Number|\n",
            "|     BDCQ.SEA1AS|2021.03|     96418|     R|Number|\n",
            "+----------------+-------+----------+------+------+\n",
            "\n"
          ]
        }
      ]
    },
    {
      "cell_type": "markdown",
      "source": [
        "When we set `withReplacement=False` it gives unique records in the output."
      ],
      "metadata": {
        "id": "E-vYIzUaDy1n"
      }
    }
  ]
}
